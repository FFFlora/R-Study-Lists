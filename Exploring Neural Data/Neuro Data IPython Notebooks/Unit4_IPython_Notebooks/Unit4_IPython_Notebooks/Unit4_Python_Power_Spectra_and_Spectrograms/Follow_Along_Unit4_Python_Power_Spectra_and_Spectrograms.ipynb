{
 "metadata": {
  "css": [
   ""
  ],
  "name": "",
  "signature": "sha256:5913a6b4c515574ca9a41c222f9589945c04441d40387b07668f0f63aa82392a"
 },
 "nbformat": 3,
 "nbformat_minor": 0,
 "worksheets": [
  {
   "cells": [
    {
     "cell_type": "markdown",
     "metadata": {},
     "source": [
      "#Power Spectra and Spectrograms\n",
      "\n",
      "In this unit, we would like you to create **power spectra** and **spectrograms** to display the data.\n",
      "\n",
      "By the end of this video, you should be able to:\n",
      "\n",
      "* create your own power spectra\n",
      "\n",
      "* create your own spectrogram\n",
      "\n",
      "* manipulate parameters to modify the power spectra and spectrograms"
     ]
    },
    {
     "cell_type": "code",
     "collapsed": false,
     "input": [
      "#Helper code we need to get started\n",
      "%matplotlib inline\n",
      "import numpy as np\n",
      "import matplotlib.pyplot as p\n",
      "import wave as wave"
     ],
     "language": "python",
     "metadata": {},
     "outputs": []
    },
    {
     "cell_type": "code",
     "collapsed": false,
     "input": [
      "t = np.arange(0,1,0.001)\n",
      "x = np.sin(2*np.pi*100*t)\n"
     ],
     "language": "python",
     "metadata": {},
     "outputs": []
    },
    {
     "cell_type": "code",
     "collapsed": false,
     "input": [
      "help(p.psd)"
     ],
     "language": "python",
     "metadata": {},
     "outputs": []
    },
    {
     "cell_type": "code",
     "collapsed": false,
     "input": [
      "Pxx, freqs = p.psd(x,Fs=1000)"
     ],
     "language": "python",
     "metadata": {},
     "outputs": []
    },
    {
     "cell_type": "code",
     "collapsed": false,
     "input": [
      "help(p.specgram)"
     ],
     "language": "python",
     "metadata": {},
     "outputs": []
    },
    {
     "cell_type": "code",
     "collapsed": false,
     "input": [
      "Pxx, freqs, bins, im = p.specgram(x,Fs=1000) \n"
     ],
     "language": "python",
     "metadata": {},
     "outputs": []
    },
    {
     "cell_type": "code",
     "collapsed": false,
     "input": [
      "wf = wave.open('TestFile.wav')\n",
      "signal = wf.readframes(-1)\n",
      "signal = np.fromstring(signal,'Int16')\n",
      "p.plot(signal)\n"
     ],
     "language": "python",
     "metadata": {},
     "outputs": []
    },
    {
     "cell_type": "code",
     "collapsed": false,
     "input": [
      "fs = wf.getframerate()\n",
      "print fs\n",
      "times = np.linspace(0,len(signal)/fs,num=len(signal))\n",
      "p.plot(times,signal)\n"
     ],
     "language": "python",
     "metadata": {},
     "outputs": []
    },
    {
     "cell_type": "code",
     "collapsed": false,
     "input": [
      "Pxx, freqs = p.psd(signal, Fs=fs)"
     ],
     "language": "python",
     "metadata": {},
     "outputs": []
    },
    {
     "cell_type": "code",
     "collapsed": false,
     "input": [
      "Pxx, freqs, bins, im = p.specgram(signal,NFFT=4096,Fs=fs)"
     ],
     "language": "python",
     "metadata": {},
     "outputs": []
    },
    {
     "cell_type": "code",
     "collapsed": false,
     "input": [],
     "language": "python",
     "metadata": {},
     "outputs": []
    },
    {
     "cell_type": "code",
     "collapsed": false,
     "input": [],
     "language": "python",
     "metadata": {},
     "outputs": []
    }
   ],
   "metadata": {}
  }
 ]
}