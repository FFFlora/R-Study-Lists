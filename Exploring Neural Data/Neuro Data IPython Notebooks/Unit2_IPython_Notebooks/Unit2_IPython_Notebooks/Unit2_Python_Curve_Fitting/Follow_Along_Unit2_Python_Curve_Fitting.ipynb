{
 "metadata": {
  "css": [
   ""
  ],
  "name": "",
  "signature": "sha256:8cf1372b0278eff953a7efd2b0c2fca3ed539935d6e4e173f105749afe4af544"
 },
 "nbformat": 3,
 "nbformat_minor": 0,
 "worksheets": [
  {
   "cells": [
    {
     "cell_type": "markdown",
     "metadata": {},
     "source": [
      "#Curve Fitting\n",
      "\n",
      "In this unit, we will demonstrate some very basic methods for **curve fitting**.\n",
      "\n",
      "By the end of this video, you should be able to:\n",
      "\n",
      "* generate original and noisy data\n",
      "\n",
      "* plot a line or curve on top of raw data\n",
      "\n",
      "* define a function to use to to fit raw data\n",
      "\n",
      "* obtain the fit parameters and use these to plot fit"
     ]
    },
    {
     "cell_type": "markdown",
     "metadata": {},
     "source": [
      "As usual, we'll set things up first.  \n",
      "\n",
      "    * The %matplotlib magic will allow graphs to be inline in this document.\n",
      "\n",
      "    * We import all the NumPy routines as well as plotting routines from matplotlib.\n",
      "    \n",
      "    * And for this module, we will use some functions from the scipy module."
     ]
    },
    {
     "cell_type": "code",
     "collapsed": false,
     "input": [
      "#Helper code we need to get started\n",
      "%matplotlib inline\n",
      "import numpy as np\n",
      "import matplotlib.pyplot as plt\n",
      "import matplotlib.mlab as mlab\n",
      "from scipy import optimize, polyfit"
     ],
     "language": "python",
     "metadata": {},
     "outputs": [],
     "prompt_number": 2
    },
    {
     "cell_type": "markdown",
     "metadata": {},
     "source": [
      "On to the focus of this video - fitting data.  What we want to do is to first create data using a known function.  Then we will add noise to this data.  Finally, we will see if we can recover the original function that generated the data.\n",
      "\n",
      "In real data analyses, we often don't know the actual function that generated the data but we have an idea about what that function might look like.  We use the same approach as we'll do here, but in that case we start with actual data."
     ]
    },
    {
     "cell_type": "markdown",
     "metadata": {},
     "source": [
      "The first thing will do is create a very simple set of data.  We'll take the function $y = mx+b$ that we all know as a linear function (straight line) and then add some jitter to it."
     ]
    },
    {
     "cell_type": "code",
     "collapsed": false,
     "input": [
      "n = 50\n",
      "jitter_amp = 4.0\n",
      "x = np.linspace(0,10,n)\n",
      "jitter = jitter_amp * (np.random.random(n)-.5)\n",
      "y = x+jitter\n",
      "plt.plot(x,y,'o')"
     ],
     "language": "python",
     "metadata": {},
     "outputs": [
      {
       "metadata": {},
       "output_type": "pyout",
       "prompt_number": 3,
       "text": [
        "[<matplotlib.lines.Line2D at 0x52c0fb0>]"
       ]
      },
      {
       "metadata": {},
       "output_type": "display_data",
       "png": "[encoded data removed]",
       "text": [
        "<matplotlib.figure.Figure at 0x5219b30>"
       ]
      }
     ],
     "prompt_number": 3
    },
    {
     "cell_type": "markdown",
     "metadata": {},
     "source": [
      "Now we can try our first fit using the function **polyfit** from the numpy module.  This fits a polynomial to $x,y$ data.  The first order polynomial is a simple linear fit.  The first two arguments to **polyfit** are the x and y values, and the third argument is the order (here 1)."
     ]
    },
    {
     "cell_type": "code",
     "collapsed": false,
     "input": [
      "m,b = polyfit(x,y,1) #'1'means first order, eg:linear regression\n",
      "(m,b)"
     ],
     "language": "python",
     "metadata": {},
     "outputs": [
      {
       "metadata": {},
       "output_type": "pyout",
       "prompt_number": 5,
       "text": [
        "(0.99052603340023093, 0.11454479024636051)"
       ]
      }
     ],
     "prompt_number": 5
    },
    {
     "cell_type": "markdown",
     "metadata": {},
     "source": [
      "Remember that the $m$ parameter corresponding to the slope ($\\Delta y / \\Delta x$).  The $b$ parameter is the intercept or offset.  For these data, our data came from the function $y=x$, so the slope should be 1 and the intercept 0."
     ]
    },
    {
     "cell_type": "markdown",
     "metadata": {},
     "source": [
      "Now let's add the fit line to our data.  For this we use the **plt.plot** command with the *hold=True* option."
     ]
    },
    {
     "cell_type": "code",
     "collapsed": false,
     "input": [
      "plt.plot(x,y,'o',hold=True)\n",
      "t=np.array([0,10])\n",
      "plt.plot(x,m*x+b)"
     ],
     "language": "python",
     "metadata": {},
     "outputs": [
      {
       "metadata": {},
       "output_type": "pyout",
       "prompt_number": 6,
       "text": [
        "[<matplotlib.lines.Line2D at 0x5492a30>]"
       ]
      },
      {
       "metadata": {},
       "output_type": "display_data",
       "png": "[encoded data removed]",
       "text": [
        "<matplotlib.figure.Figure at 0x52f3ab0>"
       ]
      }
     ],
     "prompt_number": 6
    },
    {
     "cell_type": "markdown",
     "metadata": {},
     "source": [
      "*** What about more general curve fitting? ***\n",
      "\n",
      "For this we define our own fit function and use the **optimize.curve_fit** function."
     ]
    },
    {
     "cell_type": "code",
     "collapsed": false,
     "input": [
      "def fit_func(t,m,b):\n",
      "    return m*t+b"
     ],
     "language": "python",
     "metadata": {},
     "outputs": [],
     "prompt_number": 7
    },
    {
     "cell_type": "code",
     "collapsed": false,
     "input": [
      "p,con=optimize.curve_fit(fit_func,x,y)\n",
      "(p,con)"
     ],
     "language": "python",
     "metadata": {},
     "outputs": [
      {
       "metadata": {},
       "output_type": "pyout",
       "prompt_number": 9,
       "text": [
        "(array([ 0.99052603,  0.11454479]), array([[ 0.00290095, -0.01450477],\n",
        "        [-0.01450477,  0.09768517]]))"
       ]
      }
     ],
     "prompt_number": 9
    },
    {
     "cell_type": "markdown",
     "metadata": {},
     "source": [
      "We will again plot the data, this time with a legend and labels."
     ]
    },
    {
     "cell_type": "code",
     "collapsed": false,
     "input": [
      "plt.plot(x,y,'o', hold=True)\n",
      "t = np.array([0,10])\n",
      "plt.plot(t,p[0]*t+p[1])\n",
      "plt.xlabel('x')\n",
      "plt.ylabel('y')\n",
      "plt.title('Linear Fit of Noisy Data')\n",
      "plt.legend(['noisy data','linear fit'], loc=0)"
     ],
     "language": "python",
     "metadata": {},
     "outputs": [
      {
       "metadata": {},
       "output_type": "pyout",
       "prompt_number": 10,
       "text": [
        "<matplotlib.legend.Legend at 0xcf124d0>"
       ]
      },
      {
       "metadata": {},
       "output_type": "display_data",
       "png": "[encoded data removed]",
       "text": [
        "<matplotlib.figure.Figure at 0x54b5e30>"
       ]
      }
     ],
     "prompt_number": 10
    },
    {
     "cell_type": "code",
     "collapsed": false,
     "input": [
      "help(optimize.curve_fit)"
     ],
     "language": "python",
     "metadata": {},
     "outputs": [
      {
       "output_type": "stream",
       "stream": "stdout",
       "text": [
        "Help on function curve_fit in module scipy.optimize.minpack:\n",
        "\n",
        "curve_fit(f, xdata, ydata, p0=None, sigma=None, absolute_sigma=False, **kw)\n",
        "    Use non-linear least squares to fit a function, f, to data.\n",
        "    \n",
        "    Assumes ``ydata = f(xdata, *params) + eps``\n",
        "    \n",
        "    Parameters\n",
        "    ----------\n",
        "    f : callable\n",
        "        The model function, f(x, ...).  It must take the independent\n",
        "        variable as the first argument and the parameters to fit as\n",
        "        separate remaining arguments.\n",
        "    xdata : An M-length sequence or an (k,M)-shaped array\n",
        "        for functions with k predictors.\n",
        "        The independent variable where the data is measured.\n",
        "    ydata : M-length sequence\n",
        "        The dependent data --- nominally f(xdata, ...)\n",
        "    p0 : None, scalar, or N-length sequence\n",
        "        Initial guess for the parameters.  If None, then the initial\n",
        "        values will all be 1 (if the number of parameters for the function\n",
        "        can be determined using introspection, otherwise a ValueError\n",
        "        is raised).\n",
        "    sigma : None or M-length sequence, optional\n",
        "        If not None, these values are used as weights in the\n",
        "        least-squares problem.\n",
        "    absolute_sigma : bool, optional\n",
        "        If False, `sigma` denotes relative weights of the data points.\n",
        "        The returned covariance matrix `pcov` is based on *estimated*\n",
        "        errors in the data, and is not affected by the overall\n",
        "        magnitude of the values in `sigma`. Only the relative\n",
        "        magnitudes of the `sigma` values matter.\n",
        "    \n",
        "        If True, `sigma` describes one standard deviation errors of\n",
        "        the input data points. The estimated covariance in `pcov` is\n",
        "        based on these values.\n",
        "    \n",
        "    Returns\n",
        "    -------\n",
        "    popt : array\n",
        "        Optimal values for the parameters so that the sum of the squared error\n",
        "        of ``f(xdata, *popt) - ydata`` is minimized\n",
        "    pcov : 2d array\n",
        "        The estimated covariance of popt. The diagonals provide the variance\n",
        "        of the parameter estimate. To compute one standard deviation errors\n",
        "        on the parameters use ``perr = np.sqrt(np.diag(pcov))``.\n",
        "    \n",
        "        How the `sigma` parameter affects the estimated covariance\n",
        "        depends on `absolute_sigma` argument, as described above.\n",
        "    \n",
        "    See Also\n",
        "    --------\n",
        "    leastsq\n",
        "    \n",
        "    Notes\n",
        "    -----\n",
        "    The algorithm uses the Levenberg-Marquardt algorithm through `leastsq`.\n",
        "    Additional keyword arguments are passed directly to that algorithm.\n",
        "    \n",
        "    Examples\n",
        "    --------\n",
        "    >>> import numpy as np\n",
        "    >>> from scipy.optimize import curve_fit\n",
        "    >>> def func(x, a, b, c):\n",
        "    ...     return a * np.exp(-b * x) + c\n",
        "    \n",
        "    >>> xdata = np.linspace(0, 4, 50)\n",
        "    >>> y = func(xdata, 2.5, 1.3, 0.5)\n",
        "    >>> ydata = y + 0.2 * np.random.normal(size=len(xdata))\n",
        "    \n",
        "    >>> popt, pcov = curve_fit(func, xdata, ydata)\n",
        "\n"
       ]
      }
     ],
     "prompt_number": 11
    },
    {
     "cell_type": "markdown",
     "metadata": {},
     "source": [
      "OK, now let's actually fit a function that's not linear.  We'll choose an extremely common function - the normal (or Gaussian) distribution.\n",
      "\n",
      "First, let's see how we can use the **matplotlib.mlab** function called **normpdf**."
     ]
    },
    {
     "cell_type": "code",
     "collapsed": false,
     "input": [
      "mean = 0.0\n",
      "var = 0.5\n",
      "sigma = np.sqrt(var)\n",
      "x = np.linspace(-4,4,80)\n",
      "plt.plot(x,mlab.normpdf(x,mean,sigma))"
     ],
     "language": "python",
     "metadata": {},
     "outputs": [
      {
       "metadata": {},
       "output_type": "pyout",
       "prompt_number": 14,
       "text": [
        "[<matplotlib.lines.Line2D at 0xd02fb50>]"
       ]
      },
      {
       "metadata": {},
       "output_type": "display_data",
       "png": "[encoded data removed]",
       "text": [
        "<matplotlib.figure.Figure at 0xcefcd30>"
       ]
      }
     ],
     "prompt_number": 14
    },
    {
     "cell_type": "code",
     "collapsed": false,
     "input": [
      "n = 20\n",
      "x = np.linspace(-4,4,n)\n",
      "jitter_amp = .1\n",
      "jitter = jitter_amp * (np.random.random(n)-.5)\n",
      "y = mlab.normpdf(x,mean,sigma)+jitter\n",
      "plt.plot(x,y,'o')"
     ],
     "language": "python",
     "metadata": {},
     "outputs": [
      {
       "metadata": {},
       "output_type": "pyout",
       "prompt_number": 15,
       "text": [
        "[<matplotlib.lines.Line2D at 0xd2510b0>]"
       ]
      },
      {
       "metadata": {},
       "output_type": "display_data",
       "png": "[encoded data removed]",
       "text": [
        "<matplotlib.figure.Figure at 0xd05b750>"
       ]
      }
     ],
     "prompt_number": 15
    },
    {
     "cell_type": "code",
     "collapsed": false,
     "input": [
      "def normal_fit(t, mean, var):\n",
      "    return mlab.normpdf(t,mean,var)\n",
      "\n",
      "p, cov = optimize.curve_fit(normal_fit, x, y)\n",
      "p"
     ],
     "language": "python",
     "metadata": {},
     "outputs": [
      {
       "metadata": {},
       "output_type": "pyout",
       "prompt_number": 16,
       "text": [
        "array([ 0.03754262,  0.71038137])"
       ]
      }
     ],
     "prompt_number": 16
    },
    {
     "cell_type": "code",
     "collapsed": false,
     "input": [
      "plt.plot(x,y,'o',hold=True)\n",
      "plt.plot(x,normal_fit(x,p[0],p[1]),'-')\n",
      "plt.legend(['original', 'fit'])\n",
      "plt.text(-2.2,.34, 'mean = %.2f\\nvar = %.2f' % (p[0],p[1]), ha='right')"
     ],
     "language": "python",
     "metadata": {},
     "outputs": [
      {
       "metadata": {},
       "output_type": "pyout",
       "prompt_number": 17,
       "text": [
        "<matplotlib.text.Text at 0xd1735b0>"
       ]
      },
      {
       "metadata": {},
       "output_type": "display_data",
       "png": "[encoded data removed]",
       "text": [
        "<matplotlib.figure.Figure at 0xd04f230>"
       ]
      }
     ],
     "prompt_number": 17
    },
    {
     "cell_type": "code",
     "collapsed": false,
     "input": [],
     "language": "python",
     "metadata": {},
     "outputs": []
    }
   ],
   "metadata": {}
  }
 ]
}