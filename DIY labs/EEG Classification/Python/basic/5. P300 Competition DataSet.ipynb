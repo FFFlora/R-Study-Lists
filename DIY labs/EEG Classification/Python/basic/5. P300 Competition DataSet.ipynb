{
 "metadata": {
  "name": "",
  "signature": "sha256:924dc2a353db50d23c73c3bf0e3a97cafd67cfb9dbe28c8cd39380d18b2888f9"
 },
 "nbformat": 3,
 "nbformat_minor": 0,
 "worksheets": [
  {
   "cells": [
    {
     "cell_type": "code",
     "collapsed": false,
     "input": [
      "import psychic\n",
      "import numpy as np"
     ],
     "language": "python",
     "metadata": {},
     "outputs": [],
     "prompt_number": 1
    },
    {
     "cell_type": "code",
     "collapsed": false,
     "input": [
      "from scipy.io import loadmat\n",
      "m = loadmat('p300/Subject_A_Train.mat')\n",
      "print m.keys()"
     ],
     "language": "python",
     "metadata": {},
     "outputs": [
      {
       "output_type": "stream",
       "stream": "stdout",
       "text": [
        "['Signal', 'StimulusCode', '__header__', '__globals__', 'TargetChar', 'StimulusType', 'Flashing', '__version__']\n"
       ]
      }
     ],
     "prompt_number": 2
    },
    {
     "cell_type": "code",
     "collapsed": false,
     "input": [
      "def cl(letter):\n",
      "    alphabet = [['A', 'B', 'C', 'D', 'E', 'F'],\n",
      "                ['G', 'H', 'I', 'J', 'K', 'L'],\n",
      "                ['M', 'N', 'O', 'P', 'Q', 'R'],\n",
      "                ['S', 'T', 'U', 'V', 'W', 'X'],\n",
      "                ['Y', 'Z', '1', '2', '3', '4'],\n",
      "                ['5', '6', '7', '8', '9', '_']]"
     ],
     "language": "python",
     "metadata": {},
     "outputs": [],
     "prompt_number": 59
    },
    {
     "cell_type": "code",
     "collapsed": false,
     "input": [
      "mdict = dict([(i, 'column %d' % i) for i in range(1,7)] + [(i+6, 'row %d' % i) for i in range(1,7)])\n",
      "def process_trial(data, labels, target):\n",
      "    d = psychic.DataSet(data.T, labels=labels.astype(int)+1, ids=np.arange(data.shape[0])/240.)\n",
      "    flashes = psychic.nodes.Slice(mdict, (0, 0.7)).train_apply(d)\n",
      "    return flashes"
     ],
     "language": "python",
     "metadata": {},
     "outputs": [],
     "prompt_number": 53
    },
    {
     "cell_type": "code",
     "collapsed": false,
     "input": [
      "train = psychic.concatenate([process_trial(m['Signal'][i,:,:], m['StimulusCode'][i,:], m['TargetChar'][0][i]) for i in range(85)], ignore_index=True)"
     ],
     "language": "python",
     "metadata": {},
     "outputs": [],
     "prompt_number": 58
    },
    {
     "cell_type": "code",
     "collapsed": false,
     "input": [
      "print process_trial(m['Signal'][0,:], m['StimulusType'][0,:])"
     ],
     "language": "python",
     "metadata": {},
     "outputs": [
      {
       "output_type": "stream",
       "stream": "stdout",
       "text": [
        "DataSet with 61 instances, 10752 features [64x168], 2 classes: [31, 30], extras: []\n"
       ]
      }
     ],
     "prompt_number": 47
    },
    {
     "cell_type": "code",
     "collapsed": false,
     "input": [
      "m['TargetChar'][0]"
     ],
     "language": "python",
     "metadata": {},
     "outputs": [
      {
       "metadata": {},
       "output_type": "pyout",
       "prompt_number": 57,
       "text": [
        "u'EAEVQTDOJG8RBRGONCEDHCTUIDBPUHMEM6OUXOCFOUKWA4VJEFRZROLHYNQDW_EKTLBWXEPOUIKZERYOOTHQI'"
       ]
      }
     ],
     "prompt_number": 57
    },
    {
     "cell_type": "code",
     "collapsed": false,
     "input": [
      "plot(m['StimulusType'][0,:])"
     ],
     "language": "python",
     "metadata": {},
     "outputs": [
      {
       "metadata": {},
       "output_type": "pyout",
       "prompt_number": 13,
       "text": [
        "[<matplotlib.lines.Line2D at 0x7f7d4edc23d0>]"
       ]
      }
     ],
     "prompt_number": 13
    },
    {
     "cell_type": "code",
     "collapsed": false,
     "input": [],
     "language": "python",
     "metadata": {},
     "outputs": []
    }
   ],
   "metadata": {}
  }
 ]
}